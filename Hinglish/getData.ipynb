{
 "cells": [
  {
   "cell_type": "code",
   "execution_count": 1,
   "id": "fb5fe8d9",
   "metadata": {},
   "outputs": [],
   "source": [
    "from collections import Counter\n",
    "import operator"
   ]
  },
  {
   "cell_type": "code",
   "execution_count": 2,
   "id": "ea5e43df",
   "metadata": {},
   "outputs": [
    {
     "name": "stdout",
     "output_type": "stream",
     "text": [
      "[('\\n', 2035), ('ke', 595), ('है', 498), ('के', 455), ('में', 412)]\n"
     ]
    }
   ],
   "source": [
    "words = []\n",
    "\n",
    "for i in range(1, 19):\n",
    "    filename = \"Data/Hindi - Word transliteration pairs 2/Chat/\" \"user-\" + str(i) + \".txt\"\n",
    "    file = open(filename, \"r\", encoding=\"utf-8\")\n",
    "    c = 2\n",
    "    for line in file:\n",
    "        if (c%2==0):\n",
    "            words.extend(line.split(';'))\n",
    "        if line != '\\r\\n':\n",
    "            c = c + 1\n",
    "\n",
    "for i in range(1, 19):\n",
    "    filename = \"Data/Hindi - Word transliteration pairs 2/Dictation Experiment/\" \"user-\" + str(i) + \".txt\"\n",
    "    file = open(filename, \"r\", encoding=\"utf-8\")\n",
    "    c = 2\n",
    "    for line in file:\n",
    "        if (c%2==0):\n",
    "            words.extend(line.split(';'))\n",
    "        if line != '\\r\\n':\n",
    "            c = c + 1\n",
    "\n",
    "for i in range(1, 19):\n",
    "    filename = \"Data/Hindi - Word transliteration pairs 2/Scenario/\" \"user-\" + str(i) + \".txt\"\n",
    "    file = open(filename, \"r\", encoding=\"utf-8\")\n",
    "    c = 2\n",
    "    for line in file:\n",
    "        if (c%2==0):\n",
    "            words.extend(line.split(';'))\n",
    "        if line != '\\r\\n':\n",
    "            c = c + 1\n",
    "\n",
    "word_counts = Counter(words)\n",
    "#print(word_counts)\n",
    "sorted_word_counts = sorted(word_counts.items(), key=operator.itemgetter(1), reverse=True)\n",
    "print(sorted_word_counts[:5])"
   ]
  },
  {
   "cell_type": "code",
   "execution_count": null,
   "id": "610f3b37",
   "metadata": {},
   "outputs": [],
   "source": []
  }
 ],
 "metadata": {
  "kernelspec": {
   "display_name": "Python 3",
   "language": "python",
   "name": "python3"
  },
  "language_info": {
   "codemirror_mode": {
    "name": "ipython",
    "version": 3
   },
   "file_extension": ".py",
   "mimetype": "text/x-python",
   "name": "python",
   "nbconvert_exporter": "python",
   "pygments_lexer": "ipython3",
   "version": "3.8.8"
  }
 },
 "nbformat": 4,
 "nbformat_minor": 5
}
